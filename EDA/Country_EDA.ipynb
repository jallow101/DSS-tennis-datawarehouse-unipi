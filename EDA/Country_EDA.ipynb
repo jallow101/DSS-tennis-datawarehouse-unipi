{
 "cells": [
  {
   "cell_type": "code",
   "execution_count": 1,
   "metadata": {},
   "outputs": [
    {
     "name": "stderr",
     "output_type": "stream",
     "text": [
      "c:\\Users\\PC2\\anaconda3\\Lib\\site-packages\\pandas\\core\\arrays\\masked.py:60: UserWarning: Pandas requires version '1.3.6' or newer of 'bottleneck' (version '1.3.5' currently installed).\n",
      "  from pandas.core import (\n"
     ]
    },
    {
     "name": "stdout",
     "output_type": "stream",
     "text": [
      "🛑 Countries with no players in the data:\n",
      "    country_id country_name continent\n",
      "81         GRN      Grenada    Europe\n",
      "98         XKX       Kosovo    Europe\n",
      "109        PHL  Philippines      Asia\n",
      "110        MGL     Mongolia      Asia\n",
      "121        NLD  Netherlands    Europe\n"
     ]
    }
   ],
   "source": [
    "import pandas as pd\n",
    "\n",
    "# Load dimensions\n",
    "countries = pd.read_csv('../Dimensions/dimension tables/country_dim.csv')\n",
    "players = pd.read_csv('../Dimensions/dimension tables/player_dim.csv')\n",
    "\n",
    "# Step 1: Extract all used country IDs from players\n",
    "used_countries = set(players['country_id'].dropna().unique())\n",
    "\n",
    "# Step 2: Find unused country IDs\n",
    "all_countries = set(countries['country_id'].dropna().unique())\n",
    "unused_countries = all_countries - used_countries\n",
    "\n",
    "# Step 3: Return as DataFrame\n",
    "unused_df = countries[countries['country_id'].isin(unused_countries)]\n",
    "\n",
    "print(\"🛑 Countries with no players in the data:\")\n",
    "print(unused_df)\n"
   ]
  },
  {
   "cell_type": "code",
   "execution_count": 5,
   "metadata": {},
   "outputs": [
    {
     "name": "stdout",
     "output_type": "stream",
     "text": [
      "\n",
      "🗺️ Unique continent names in the data:\n",
      "['Asia' 'Europe' 'Oceania' 'America' 'Africa' 'Unknown']\n"
     ]
    }
   ],
   "source": [
    "#get unique continent names\n",
    "continent_names = countries['continent'].dropna().unique()\n",
    "continent_names = continent_names[continent_names != '']    \n",
    "print(\"\\n🗺️ Unique continent names in the data:\")\n",
    "print(continent_names)"
   ]
  },
  {
   "cell_type": "code",
   "execution_count": 2,
   "metadata": {},
   "outputs": [
    {
     "name": "stdout",
     "output_type": "stream",
     "text": [
      "❌ Countries used in player_dim but missing in country_dim:\n",
      "{'VIN', 'LBN', 'CAF', 'FIJ', 'ANZ', 'TKM', 'SYR', 'SUD', 'VAN', 'MOZ', 'BUR', 'ZAM', 'ISL', 'CAY', 'LAO', 'URS', 'RHO', 'TOG', 'ISV', 'NMI', 'ERI', 'MLI', 'IRQ', 'NIC', 'KSA', 'SCG', 'CEY', 'SLE', 'NPL', 'TGO', 'LCA', 'CHL', 'BEN', 'NIG', 'COK', 'JOR', 'MRT', 'TTO', 'TCH', 'BHR', 'ARU', 'SMR', 'JAM', 'YUG', 'ZWE', 'BER', 'KWT', 'CIV', 'FRG', 'COD', 'AGO', 'MYA', 'GTM', 'BRN', 'AZE', 'COG', 'BRI', 'LES', 'ITF', 'VIR', 'LBA', 'RWA', 'TWN', 'GDR', 'YEM', 'BRU', 'QAT', 'BAN', 'TAN', 'SUR', 'HAW', 'AHO', 'SEN', 'BOT', 'ANG', 'SOL', 'CAR', 'ANT', 'ECA', 'MDG', 'PRY', 'BWA', 'UGA', 'ETH', 'NCA', 'GHA', 'NEP', 'CUW', 'UAE', 'MHL', 'CGO'}\n"
     ]
    }
   ],
   "source": [
    "import pandas as pd\n",
    "\n",
    "# Load CSVs\n",
    "players = pd.read_csv('../Dimensions/dimension tables/player_dim.csv')\n",
    "countries = pd.read_csv('../Dimensions/dimension tables/country_dim.csv')\n",
    "\n",
    "# Get unique sets\n",
    "used_countries = set(players['country_id'].dropna().unique())\n",
    "valid_countries = set(countries['country_id'].dropna().unique())\n",
    "\n",
    "# Find mismatches\n",
    "missing_in_country_dim = used_countries - valid_countries\n",
    "\n",
    "print(\"❌ Countries used in player_dim but missing in country_dim:\")\n",
    "print(missing_in_country_dim)\n"
   ]
  },
  {
   "cell_type": "code",
   "execution_count": 3,
   "metadata": {},
   "outputs": [
    {
     "name": "stdout",
     "output_type": "stream",
     "text": [
      "Empty DataFrame\n",
      "Columns: [player_id, player_name, hand, age, height, country_id]\n",
      "Index: []\n"
     ]
    }
   ],
   "source": [
    "print(players[players['country_id'].isnull() | (players['country_id'].str.strip() == '')])"
   ]
  },
  {
   "cell_type": "code",
   "execution_count": null,
   "metadata": {},
   "outputs": [],
   "source": []
  }
 ],
 "metadata": {
  "kernelspec": {
   "display_name": "base",
   "language": "python",
   "name": "python3"
  },
  "language_info": {
   "codemirror_mode": {
    "name": "ipython",
    "version": 3
   },
   "file_extension": ".py",
   "mimetype": "text/x-python",
   "name": "python",
   "nbconvert_exporter": "python",
   "pygments_lexer": "ipython3",
   "version": "3.11.4"
  }
 },
 "nbformat": 4,
 "nbformat_minor": 2
}
